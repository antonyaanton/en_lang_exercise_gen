{
  "cells": [
    {
      "cell_type": "markdown",
      "id": "4710bfe7",
      "metadata": {
        "id": "4710bfe7"
      },
      "source": [
        "# **Генератор упражнений.** Разметка текста."
      ]
    },
    {
      "cell_type": "markdown",
      "source": [
        "_Целью проекта является создание приложения, которое автоматически преобразует предоставленный текст в увлекательные задания по английскому языку, используя технологии обработки естественного языка (NLP)._\n",
        "\n",
        "**Notion:**\n",
        "https://www.notion.so/Y-Practicum-53564c4e7d164a5e882e4c2eda0e83e2?showMoveTo=true&saveParent=true"
      ],
      "metadata": {
        "id": "qS2A01UaQnf4"
      },
      "id": "qS2A01UaQnf4"
    },
    {
      "cell_type": "code",
      "execution_count": 1,
      "id": "9e19a92c",
      "metadata": {
        "id": "9e19a92c"
      },
      "outputs": [],
      "source": [
        "!pip install -q spacy"
      ]
    },
    {
      "cell_type": "code",
      "execution_count": 4,
      "id": "567c6b22",
      "metadata": {
        "colab": {
          "base_uri": "https://localhost:8080/"
        },
        "id": "567c6b22",
        "outputId": "34812955-b23b-4f17-e629-53d67eb28fd2"
      },
      "outputs": [
        {
          "output_type": "stream",
          "name": "stdout",
          "text": [
            "2023-07-06 12:53:28.729925: I tensorflow/core/platform/cpu_feature_guard.cc:182] This TensorFlow binary is optimized to use available CPU instructions in performance-critical operations.\n",
            "To enable the following instructions: AVX2 FMA, in other operations, rebuild TensorFlow with the appropriate compiler flags.\n",
            "2023-07-06 12:53:29.891433: W tensorflow/compiler/tf2tensorrt/utils/py_utils.cc:38] TF-TRT Warning: Could not find TensorRT\n",
            "Collecting en-core-web-lg==3.5.0\n",
            "  Downloading https://github.com/explosion/spacy-models/releases/download/en_core_web_lg-3.5.0/en_core_web_lg-3.5.0-py3-none-any.whl (587.7 MB)\n",
            "\u001b[2K     \u001b[90m━━━━━━━━━━━━━━━━━━━━━━━━━━━━━━━━━━━━━━━\u001b[0m \u001b[32m587.7/587.7 MB\u001b[0m \u001b[31m1.6 MB/s\u001b[0m eta \u001b[36m0:00:00\u001b[0m\n",
            "\u001b[?25hRequirement already satisfied: spacy<3.6.0,>=3.5.0 in /usr/local/lib/python3.10/dist-packages (from en-core-web-lg==3.5.0) (3.5.3)\n",
            "Requirement already satisfied: spacy-legacy<3.1.0,>=3.0.11 in /usr/local/lib/python3.10/dist-packages (from spacy<3.6.0,>=3.5.0->en-core-web-lg==3.5.0) (3.0.12)\n",
            "Requirement already satisfied: spacy-loggers<2.0.0,>=1.0.0 in /usr/local/lib/python3.10/dist-packages (from spacy<3.6.0,>=3.5.0->en-core-web-lg==3.5.0) (1.0.4)\n",
            "Requirement already satisfied: murmurhash<1.1.0,>=0.28.0 in /usr/local/lib/python3.10/dist-packages (from spacy<3.6.0,>=3.5.0->en-core-web-lg==3.5.0) (1.0.9)\n",
            "Requirement already satisfied: cymem<2.1.0,>=2.0.2 in /usr/local/lib/python3.10/dist-packages (from spacy<3.6.0,>=3.5.0->en-core-web-lg==3.5.0) (2.0.7)\n",
            "Requirement already satisfied: preshed<3.1.0,>=3.0.2 in /usr/local/lib/python3.10/dist-packages (from spacy<3.6.0,>=3.5.0->en-core-web-lg==3.5.0) (3.0.8)\n",
            "Requirement already satisfied: thinc<8.2.0,>=8.1.8 in /usr/local/lib/python3.10/dist-packages (from spacy<3.6.0,>=3.5.0->en-core-web-lg==3.5.0) (8.1.10)\n",
            "Requirement already satisfied: wasabi<1.2.0,>=0.9.1 in /usr/local/lib/python3.10/dist-packages (from spacy<3.6.0,>=3.5.0->en-core-web-lg==3.5.0) (1.1.2)\n",
            "Requirement already satisfied: srsly<3.0.0,>=2.4.3 in /usr/local/lib/python3.10/dist-packages (from spacy<3.6.0,>=3.5.0->en-core-web-lg==3.5.0) (2.4.6)\n",
            "Requirement already satisfied: catalogue<2.1.0,>=2.0.6 in /usr/local/lib/python3.10/dist-packages (from spacy<3.6.0,>=3.5.0->en-core-web-lg==3.5.0) (2.0.8)\n",
            "Requirement already satisfied: typer<0.8.0,>=0.3.0 in /usr/local/lib/python3.10/dist-packages (from spacy<3.6.0,>=3.5.0->en-core-web-lg==3.5.0) (0.7.0)\n",
            "Requirement already satisfied: pathy>=0.10.0 in /usr/local/lib/python3.10/dist-packages (from spacy<3.6.0,>=3.5.0->en-core-web-lg==3.5.0) (0.10.2)\n",
            "Requirement already satisfied: smart-open<7.0.0,>=5.2.1 in /usr/local/lib/python3.10/dist-packages (from spacy<3.6.0,>=3.5.0->en-core-web-lg==3.5.0) (6.3.0)\n",
            "Requirement already satisfied: tqdm<5.0.0,>=4.38.0 in /usr/local/lib/python3.10/dist-packages (from spacy<3.6.0,>=3.5.0->en-core-web-lg==3.5.0) (4.65.0)\n",
            "Requirement already satisfied: numpy>=1.15.0 in /usr/local/lib/python3.10/dist-packages (from spacy<3.6.0,>=3.5.0->en-core-web-lg==3.5.0) (1.22.4)\n",
            "Requirement already satisfied: requests<3.0.0,>=2.13.0 in /usr/local/lib/python3.10/dist-packages (from spacy<3.6.0,>=3.5.0->en-core-web-lg==3.5.0) (2.27.1)\n",
            "Requirement already satisfied: pydantic!=1.8,!=1.8.1,<1.11.0,>=1.7.4 in /usr/local/lib/python3.10/dist-packages (from spacy<3.6.0,>=3.5.0->en-core-web-lg==3.5.0) (1.10.9)\n",
            "Requirement already satisfied: jinja2 in /usr/local/lib/python3.10/dist-packages (from spacy<3.6.0,>=3.5.0->en-core-web-lg==3.5.0) (3.1.2)\n",
            "Requirement already satisfied: setuptools in /usr/local/lib/python3.10/dist-packages (from spacy<3.6.0,>=3.5.0->en-core-web-lg==3.5.0) (67.7.2)\n",
            "Requirement already satisfied: packaging>=20.0 in /usr/local/lib/python3.10/dist-packages (from spacy<3.6.0,>=3.5.0->en-core-web-lg==3.5.0) (23.1)\n",
            "Requirement already satisfied: langcodes<4.0.0,>=3.2.0 in /usr/local/lib/python3.10/dist-packages (from spacy<3.6.0,>=3.5.0->en-core-web-lg==3.5.0) (3.3.0)\n",
            "Requirement already satisfied: typing-extensions>=4.2.0 in /usr/local/lib/python3.10/dist-packages (from pydantic!=1.8,!=1.8.1,<1.11.0,>=1.7.4->spacy<3.6.0,>=3.5.0->en-core-web-lg==3.5.0) (4.6.3)\n",
            "Requirement already satisfied: urllib3<1.27,>=1.21.1 in /usr/local/lib/python3.10/dist-packages (from requests<3.0.0,>=2.13.0->spacy<3.6.0,>=3.5.0->en-core-web-lg==3.5.0) (1.26.16)\n",
            "Requirement already satisfied: certifi>=2017.4.17 in /usr/local/lib/python3.10/dist-packages (from requests<3.0.0,>=2.13.0->spacy<3.6.0,>=3.5.0->en-core-web-lg==3.5.0) (2023.5.7)\n",
            "Requirement already satisfied: charset-normalizer~=2.0.0 in /usr/local/lib/python3.10/dist-packages (from requests<3.0.0,>=2.13.0->spacy<3.6.0,>=3.5.0->en-core-web-lg==3.5.0) (2.0.12)\n",
            "Requirement already satisfied: idna<4,>=2.5 in /usr/local/lib/python3.10/dist-packages (from requests<3.0.0,>=2.13.0->spacy<3.6.0,>=3.5.0->en-core-web-lg==3.5.0) (3.4)\n",
            "Requirement already satisfied: blis<0.8.0,>=0.7.8 in /usr/local/lib/python3.10/dist-packages (from thinc<8.2.0,>=8.1.8->spacy<3.6.0,>=3.5.0->en-core-web-lg==3.5.0) (0.7.9)\n",
            "Requirement already satisfied: confection<1.0.0,>=0.0.1 in /usr/local/lib/python3.10/dist-packages (from thinc<8.2.0,>=8.1.8->spacy<3.6.0,>=3.5.0->en-core-web-lg==3.5.0) (0.0.4)\n",
            "Requirement already satisfied: click<9.0.0,>=7.1.1 in /usr/local/lib/python3.10/dist-packages (from typer<0.8.0,>=0.3.0->spacy<3.6.0,>=3.5.0->en-core-web-lg==3.5.0) (8.1.3)\n",
            "Requirement already satisfied: MarkupSafe>=2.0 in /usr/local/lib/python3.10/dist-packages (from jinja2->spacy<3.6.0,>=3.5.0->en-core-web-lg==3.5.0) (2.1.3)\n",
            "Installing collected packages: en-core-web-lg\n",
            "Successfully installed en-core-web-lg-3.5.0\n",
            "\u001b[38;5;2m✔ Download and installation successful\u001b[0m\n",
            "You can now load the package via spacy.load('en_core_web_lg')\n"
          ]
        }
      ],
      "source": [
        "!spacy download en_core_web_lg"
      ]
    },
    {
      "cell_type": "code",
      "execution_count": 5,
      "id": "bf5fbe9c",
      "metadata": {
        "id": "bf5fbe9c"
      },
      "outputs": [],
      "source": [
        "!pip install -q nltk"
      ]
    },
    {
      "cell_type": "code",
      "execution_count": 6,
      "id": "82e087a1",
      "metadata": {
        "id": "82e087a1"
      },
      "outputs": [],
      "source": [
        "!pip install -q gensim"
      ]
    },
    {
      "cell_type": "code",
      "execution_count": 15,
      "id": "dd7b6f4e",
      "metadata": {
        "colab": {
          "base_uri": "https://localhost:8080/"
        },
        "id": "dd7b6f4e",
        "outputId": "3b3174e3-0080-4935-e9b9-e0443eb86707"
      },
      "outputs": [
        {
          "output_type": "stream",
          "name": "stderr",
          "text": [
            "[nltk_data] Downloading package punkt to /root/nltk_data...\n",
            "[nltk_data]   Package punkt is already up-to-date!\n",
            "[nltk_data] Downloading package wordnet to /root/nltk_data...\n",
            "[nltk_data]   Package wordnet is already up-to-date!\n",
            "[nltk_data] Downloading package omw-1.4 to /root/nltk_data...\n",
            "[nltk_data]   Package omw-1.4 is already up-to-date!\n"
          ]
        },
        {
          "output_type": "execute_result",
          "data": {
            "text/plain": [
              "True"
            ]
          },
          "metadata": {},
          "execution_count": 15
        }
      ],
      "source": [
        "import re\n",
        "import spacy\n",
        "import nltk\n",
        "\n",
        "import pandas as pd\n",
        "import numpy as np\n",
        "\n",
        "from nltk.tokenize import word_tokenize\n",
        "from nltk.corpus import wordnet\n",
        "\n",
        "from gensim.test.utils import lee_corpus_list\n",
        "from gensim.models import Word2Vec\n",
        "\n",
        "import gensim.downloader as api\n",
        "\n",
        "nltk.download('punkt')\n",
        "nltk.download('wordnet')\n",
        "nltk.download('omw-1.4')"
      ]
    },
    {
      "cell_type": "code",
      "source": [
        "!gdown 1zbTL0KMNK3RHsuP1rdp1a0_XM1Q6XOCC"
      ],
      "metadata": {
        "colab": {
          "base_uri": "https://localhost:8080/"
        },
        "id": "gACLaWUXRcwX",
        "outputId": "17478f47-90ea-417c-a083-7216123d1c92"
      },
      "id": "gACLaWUXRcwX",
      "execution_count": 9,
      "outputs": [
        {
          "output_type": "stream",
          "name": "stdout",
          "text": [
            "Downloading...\n",
            "From: https://drive.google.com/uc?id=1zbTL0KMNK3RHsuP1rdp1a0_XM1Q6XOCC\n",
            "To: /content/red_cap.csv\n",
            "\r  0% 0.00/7.70k [00:00<?, ?B/s]\r100% 7.70k/7.70k [00:00<00:00, 28.0MB/s]\n"
          ]
        }
      ]
    },
    {
      "cell_type": "code",
      "execution_count": 10,
      "id": "a9c757be",
      "metadata": {
        "id": "a9c757be"
      },
      "outputs": [],
      "source": [
        "df = pd.read_csv('/content/red_cap.csv')"
      ]
    },
    {
      "cell_type": "code",
      "execution_count": 11,
      "id": "0b429bf6",
      "metadata": {
        "id": "0b429bf6"
      },
      "outputs": [],
      "source": [
        "df = df[0:103]"
      ]
    },
    {
      "cell_type": "code",
      "execution_count": 12,
      "id": "d4ecf3cb",
      "metadata": {
        "id": "d4ecf3cb"
      },
      "outputs": [],
      "source": [
        "df.columns=['text']"
      ]
    },
    {
      "cell_type": "markdown",
      "id": "bab18b43",
      "metadata": {
        "id": "bab18b43"
      },
      "source": [
        "**Получение частей речи**"
      ]
    },
    {
      "cell_type": "markdown",
      "id": "345316d1",
      "metadata": {
        "id": "345316d1"
      },
      "source": [
        "* **JJ**: adjective or numeral, ordinal - _прилагательное_\n",
        "* **NN**: noun, common, singular or mass - _существительное_\n",
        "* **PRP**: pronoun, personal - _местоимение_\n",
        "* **RB**: adverb - _наречие_\n",
        "* **RP**: particle - _частица_\n",
        "* **UH**: interjection - _междометие_\n",
        "* **VB**: verb, base form - _глагол_\n",
        "* **VBD**: verb, past tense\n",
        "* **VBG**: verb, present participle or gerund\n",
        "* **VBN**: verb, past participle\n",
        "* **VBP**: verb, present tense, not 3rd person singular\n",
        "* **VBZ**: verb, present tense, 3rd person singular"
      ]
    },
    {
      "cell_type": "code",
      "execution_count": 199,
      "id": "951bd227",
      "metadata": {
        "id": "951bd227"
      },
      "outputs": [],
      "source": [
        "def get_wordnet_pos(word):\n",
        "    tag = nltk.pos_tag([word])[0][1]\n",
        "    return tag\n",
        "\n",
        "def get_noun(row):\n",
        "    tokens = word_tokenize(row)\n",
        "    list_ = []\n",
        "    for token in tokens:\n",
        "        if get_wordnet_pos(token) == 'NN':\n",
        "            list_.append(token)\n",
        "    return ', '.join(list_)\n",
        "\n",
        "def get_adjective(row):\n",
        "    tokens = word_tokenize(row)\n",
        "    list_ = []\n",
        "    for token in tokens:\n",
        "        if get_wordnet_pos(token) == 'JJ':\n",
        "            list_.append(token)\n",
        "    return ', '.join(list_)\n",
        "\n",
        "def get_pronoun(row):\n",
        "    tokens = word_tokenize(row)\n",
        "    list_ = []\n",
        "    for token in tokens:\n",
        "        if get_wordnet_pos(token) == 'PRP':\n",
        "            list_.append(token)\n",
        "    return ', '.join(list_)\n",
        "\n",
        "def get_adverb(row):\n",
        "    tokens = word_tokenize(row)\n",
        "    list_ = []\n",
        "    for token in tokens:\n",
        "        if get_wordnet_pos(token) == 'RB':\n",
        "            list_.append(token)\n",
        "    return ', '.join(list_)\n",
        "\n",
        "def get_particle(row):\n",
        "    tokens = word_tokenize(row)\n",
        "    list_ = []\n",
        "    for token in tokens:\n",
        "        if get_wordnet_pos(token) == 'RP':\n",
        "            list_.append(token)\n",
        "    return ', '.join(list_)\n",
        "\n",
        "def get_interjection(row):\n",
        "    tokens = word_tokenize(row)\n",
        "    list_ = []\n",
        "    for token in tokens:\n",
        "        if get_wordnet_pos(token) == 'UH':\n",
        "            list_.append(token)\n",
        "    return ', '.join(list_)\n",
        "\n",
        "def get_verb(row):\n",
        "    tokens = word_tokenize(row)\n",
        "    list_ = []\n",
        "    for token in tokens:\n",
        "        if get_wordnet_pos(token) == 'VB':\n",
        "            list_.append(token)\n",
        "    return ', '.join(list_)\n",
        "\n",
        "def get_verb_past(row):\n",
        "    tokens = word_tokenize(row)\n",
        "    list_ = []\n",
        "    for token in tokens:\n",
        "        if get_wordnet_pos(token) == 'VBD':\n",
        "            list_.append(token)\n",
        "    return ', '.join(list_)\n",
        "\n",
        "def get_verb_present(row):\n",
        "    tokens = word_tokenize(row)\n",
        "    list_ = []\n",
        "    for token in tokens:\n",
        "        if get_wordnet_pos(token) == 'VBG':\n",
        "            list_.append(token)\n",
        "    return ', '.join(list_)"
      ]
    },
    {
      "cell_type": "code",
      "execution_count": 17,
      "id": "96b93526",
      "metadata": {
        "colab": {
          "base_uri": "https://localhost:8080/",
          "height": 88
        },
        "id": "96b93526",
        "outputId": "35b51f2e-de1f-4bba-ea77-7a2cd35f001d"
      },
      "outputs": [
        {
          "output_type": "stream",
          "name": "stderr",
          "text": [
            "[nltk_data] Downloading package averaged_perceptron_tagger to\n",
            "[nltk_data]     /root/nltk_data...\n",
            "[nltk_data]   Unzipping taggers/averaged_perceptron_tagger.zip.\n"
          ]
        },
        {
          "output_type": "execute_result",
          "data": {
            "text/plain": [
              "'NN'"
            ],
            "application/vnd.google.colaboratory.intrinsic+json": {
              "type": "string"
            }
          },
          "metadata": {},
          "execution_count": 17
        }
      ],
      "source": [
        "import nltk\n",
        "nltk.download('averaged_perceptron_tagger')\n",
        "\n",
        "get_wordnet_pos('cat')"
      ]
    },
    {
      "cell_type": "code",
      "execution_count": 18,
      "id": "ea687dc0",
      "metadata": {
        "colab": {
          "base_uri": "https://localhost:8080/"
        },
        "id": "ea687dc0",
        "outputId": "4279c3dc-3a61-4fe3-eae4-80c392340a7a"
      },
      "outputs": [
        {
          "output_type": "execute_result",
          "data": {
            "text/plain": [
              "['kitty', 'doggy']"
            ]
          },
          "metadata": {},
          "execution_count": 18
        }
      ],
      "source": [
        "get_noun('this is kitty or doggy')"
      ]
    },
    {
      "cell_type": "code",
      "execution_count": 200,
      "id": "7da79f65",
      "metadata": {
        "id": "7da79f65"
      },
      "outputs": [],
      "source": [
        "df['nouns'] = df['text'].apply(get_noun)\n",
        "df['adjective'] = df['text'].apply(get_adjective)\n",
        "df['pronoun'] = df['text'].apply(get_pronoun)\n",
        "df['adverb'] = df['text'].apply(get_adverb)\n",
        "df['particle'] = df['text'].apply(get_particle)\n",
        "df['interjection'] = df['text'].apply(get_interjection)\n",
        "df['verb'] = df['text'].apply(get_verb)\n",
        "df['verb_past'] = df['text'].apply(get_verb_past)\n",
        "df['verb_present'] = df['text'].apply(get_verb_present)"
      ]
    },
    {
      "cell_type": "code",
      "execution_count": 201,
      "id": "51dbe01c",
      "metadata": {
        "colab": {
          "base_uri": "https://localhost:8080/",
          "height": 319
        },
        "id": "51dbe01c",
        "outputId": "fd25afb8-2b8a-4429-b32d-e7918cf57f93"
      },
      "outputs": [
        {
          "output_type": "execute_result",
          "data": {
            "text/plain": [
              "                                                text  \\\n",
              "0                                     Little Red Cap   \n",
              "1                            Jacob and Wilhelm Grimm   \n",
              "2    Once upon a time there was a sweet little girl.   \n",
              "3  Everyone who saw her liked her, but most of al...   \n",
              "4  Once she gave her a little cap made of red vel...   \n",
              "\n",
              "                               nouns    adjective pronoun       adverb  \\\n",
              "0                                Cap  Little, Red                        \n",
              "1              Jacob, Wilhelm, Grimm                                     \n",
              "2                  time, sweet, girl       little          Once, there   \n",
              "3  Everyone, saw, grandmother, child         next                  not   \n",
              "4                        cap, velvet  little, red     she         Once   \n",
              "\n",
              "  particle interjection        verb verb_past verb_present  \\\n",
              "0                                                            \n",
              "1                                                            \n",
              "2                                         was                \n",
              "3                        know, give       did                \n",
              "4                                        gave                \n",
              "\n",
              "                                       similar_nouns  \n",
              "0                        [[cap: caps, blue, salary]]  \n",
              "1  [[jacob: isaac, alfred, abraham], [wilhelm: fr...  \n",
              "2  [[time: when, this, before], [sweet: delicious...  \n",
              "3  [[everyone: everybody, else, sure], [saw: when...  \n",
              "4  [[cap: caps, blue, salary], [velvet: satin, pi...  "
            ],
            "text/html": [
              "\n",
              "  <div id=\"df-1559fedb-c43c-4f80-b45e-beae31b5b0ff\">\n",
              "    <div class=\"colab-df-container\">\n",
              "      <div>\n",
              "<style scoped>\n",
              "    .dataframe tbody tr th:only-of-type {\n",
              "        vertical-align: middle;\n",
              "    }\n",
              "\n",
              "    .dataframe tbody tr th {\n",
              "        vertical-align: top;\n",
              "    }\n",
              "\n",
              "    .dataframe thead th {\n",
              "        text-align: right;\n",
              "    }\n",
              "</style>\n",
              "<table border=\"1\" class=\"dataframe\">\n",
              "  <thead>\n",
              "    <tr style=\"text-align: right;\">\n",
              "      <th></th>\n",
              "      <th>text</th>\n",
              "      <th>nouns</th>\n",
              "      <th>adjective</th>\n",
              "      <th>pronoun</th>\n",
              "      <th>adverb</th>\n",
              "      <th>particle</th>\n",
              "      <th>interjection</th>\n",
              "      <th>verb</th>\n",
              "      <th>verb_past</th>\n",
              "      <th>verb_present</th>\n",
              "      <th>similar_nouns</th>\n",
              "    </tr>\n",
              "  </thead>\n",
              "  <tbody>\n",
              "    <tr>\n",
              "      <th>0</th>\n",
              "      <td>Little Red Cap</td>\n",
              "      <td>Cap</td>\n",
              "      <td>Little, Red</td>\n",
              "      <td></td>\n",
              "      <td></td>\n",
              "      <td></td>\n",
              "      <td></td>\n",
              "      <td></td>\n",
              "      <td></td>\n",
              "      <td></td>\n",
              "      <td>[[cap: caps, blue, salary]]</td>\n",
              "    </tr>\n",
              "    <tr>\n",
              "      <th>1</th>\n",
              "      <td>Jacob and Wilhelm Grimm</td>\n",
              "      <td>Jacob, Wilhelm, Grimm</td>\n",
              "      <td></td>\n",
              "      <td></td>\n",
              "      <td></td>\n",
              "      <td></td>\n",
              "      <td></td>\n",
              "      <td></td>\n",
              "      <td></td>\n",
              "      <td></td>\n",
              "      <td>[[jacob: isaac, alfred, abraham], [wilhelm: fr...</td>\n",
              "    </tr>\n",
              "    <tr>\n",
              "      <th>2</th>\n",
              "      <td>Once upon a time there was a sweet little girl.</td>\n",
              "      <td>time, sweet, girl</td>\n",
              "      <td>little</td>\n",
              "      <td></td>\n",
              "      <td>Once, there</td>\n",
              "      <td></td>\n",
              "      <td></td>\n",
              "      <td></td>\n",
              "      <td>was</td>\n",
              "      <td></td>\n",
              "      <td>[[time: when, this, before], [sweet: delicious...</td>\n",
              "    </tr>\n",
              "    <tr>\n",
              "      <th>3</th>\n",
              "      <td>Everyone who saw her liked her, but most of al...</td>\n",
              "      <td>Everyone, saw, grandmother, child</td>\n",
              "      <td>next</td>\n",
              "      <td></td>\n",
              "      <td>not</td>\n",
              "      <td></td>\n",
              "      <td></td>\n",
              "      <td>know, give</td>\n",
              "      <td>did</td>\n",
              "      <td></td>\n",
              "      <td>[[everyone: everybody, else, sure], [saw: when...</td>\n",
              "    </tr>\n",
              "    <tr>\n",
              "      <th>4</th>\n",
              "      <td>Once she gave her a little cap made of red vel...</td>\n",
              "      <td>cap, velvet</td>\n",
              "      <td>little, red</td>\n",
              "      <td>she</td>\n",
              "      <td>Once</td>\n",
              "      <td></td>\n",
              "      <td></td>\n",
              "      <td></td>\n",
              "      <td>gave</td>\n",
              "      <td></td>\n",
              "      <td>[[cap: caps, blue, salary], [velvet: satin, pi...</td>\n",
              "    </tr>\n",
              "  </tbody>\n",
              "</table>\n",
              "</div>\n",
              "      <button class=\"colab-df-convert\" onclick=\"convertToInteractive('df-1559fedb-c43c-4f80-b45e-beae31b5b0ff')\"\n",
              "              title=\"Convert this dataframe to an interactive table.\"\n",
              "              style=\"display:none;\">\n",
              "        \n",
              "  <svg xmlns=\"http://www.w3.org/2000/svg\" height=\"24px\"viewBox=\"0 0 24 24\"\n",
              "       width=\"24px\">\n",
              "    <path d=\"M0 0h24v24H0V0z\" fill=\"none\"/>\n",
              "    <path d=\"M18.56 5.44l.94 2.06.94-2.06 2.06-.94-2.06-.94-.94-2.06-.94 2.06-2.06.94zm-11 1L8.5 8.5l.94-2.06 2.06-.94-2.06-.94L8.5 2.5l-.94 2.06-2.06.94zm10 10l.94 2.06.94-2.06 2.06-.94-2.06-.94-.94-2.06-.94 2.06-2.06.94z\"/><path d=\"M17.41 7.96l-1.37-1.37c-.4-.4-.92-.59-1.43-.59-.52 0-1.04.2-1.43.59L10.3 9.45l-7.72 7.72c-.78.78-.78 2.05 0 2.83L4 21.41c.39.39.9.59 1.41.59.51 0 1.02-.2 1.41-.59l7.78-7.78 2.81-2.81c.8-.78.8-2.07 0-2.86zM5.41 20L4 18.59l7.72-7.72 1.47 1.35L5.41 20z\"/>\n",
              "  </svg>\n",
              "      </button>\n",
              "      \n",
              "  <style>\n",
              "    .colab-df-container {\n",
              "      display:flex;\n",
              "      flex-wrap:wrap;\n",
              "      gap: 12px;\n",
              "    }\n",
              "\n",
              "    .colab-df-convert {\n",
              "      background-color: #E8F0FE;\n",
              "      border: none;\n",
              "      border-radius: 50%;\n",
              "      cursor: pointer;\n",
              "      display: none;\n",
              "      fill: #1967D2;\n",
              "      height: 32px;\n",
              "      padding: 0 0 0 0;\n",
              "      width: 32px;\n",
              "    }\n",
              "\n",
              "    .colab-df-convert:hover {\n",
              "      background-color: #E2EBFA;\n",
              "      box-shadow: 0px 1px 2px rgba(60, 64, 67, 0.3), 0px 1px 3px 1px rgba(60, 64, 67, 0.15);\n",
              "      fill: #174EA6;\n",
              "    }\n",
              "\n",
              "    [theme=dark] .colab-df-convert {\n",
              "      background-color: #3B4455;\n",
              "      fill: #D2E3FC;\n",
              "    }\n",
              "\n",
              "    [theme=dark] .colab-df-convert:hover {\n",
              "      background-color: #434B5C;\n",
              "      box-shadow: 0px 1px 3px 1px rgba(0, 0, 0, 0.15);\n",
              "      filter: drop-shadow(0px 1px 2px rgba(0, 0, 0, 0.3));\n",
              "      fill: #FFFFFF;\n",
              "    }\n",
              "  </style>\n",
              "\n",
              "      <script>\n",
              "        const buttonEl =\n",
              "          document.querySelector('#df-1559fedb-c43c-4f80-b45e-beae31b5b0ff button.colab-df-convert');\n",
              "        buttonEl.style.display =\n",
              "          google.colab.kernel.accessAllowed ? 'block' : 'none';\n",
              "\n",
              "        async function convertToInteractive(key) {\n",
              "          const element = document.querySelector('#df-1559fedb-c43c-4f80-b45e-beae31b5b0ff');\n",
              "          const dataTable =\n",
              "            await google.colab.kernel.invokeFunction('convertToInteractive',\n",
              "                                                     [key], {});\n",
              "          if (!dataTable) return;\n",
              "\n",
              "          const docLinkHtml = 'Like what you see? Visit the ' +\n",
              "            '<a target=\"_blank\" href=https://colab.research.google.com/notebooks/data_table.ipynb>data table notebook</a>'\n",
              "            + ' to learn more about interactive tables.';\n",
              "          element.innerHTML = '';\n",
              "          dataTable['output_type'] = 'display_data';\n",
              "          await google.colab.output.renderOutput(dataTable, element);\n",
              "          const docLink = document.createElement('div');\n",
              "          docLink.innerHTML = docLinkHtml;\n",
              "          element.appendChild(docLink);\n",
              "        }\n",
              "      </script>\n",
              "    </div>\n",
              "  </div>\n",
              "  "
            ]
          },
          "metadata": {},
          "execution_count": 201
        }
      ],
      "source": [
        "df.head()"
      ]
    },
    {
      "cell_type": "code",
      "execution_count": 27,
      "id": "cab68036",
      "metadata": {
        "id": "cab68036"
      },
      "outputs": [],
      "source": [
        "model = Word2Vec(lee_corpus_list, vector_size=24, epochs=100)\n",
        "word_vectors = model.wv"
      ]
    },
    {
      "cell_type": "code",
      "execution_count": 45,
      "id": "12bf5b16",
      "metadata": {
        "id": "12bf5b16"
      },
      "outputs": [],
      "source": [
        "word_vectors = api.load(\"glove-wiki-gigaword-100\")"
      ]
    },
    {
      "cell_type": "code",
      "execution_count": 196,
      "id": "632444c2",
      "metadata": {
        "id": "632444c2"
      },
      "outputs": [],
      "source": [
        "def similar_words(row):\n",
        "    row = row.lower()\n",
        "    row = row.split(',')\n",
        "    row = ' '.join(row)\n",
        "    tokens = word_tokenize(row)\n",
        "    list_main = []\n",
        "    for token in tokens:\n",
        "        list_ = []\n",
        "        similar_word = word_vectors.most_similar(token)\n",
        "        list_.append(token + ': ' + similar_word[0][0])\n",
        "        list_.append(similar_word[1][0])\n",
        "        list_.append(similar_word[2][0])\n",
        "        list_main.append(list_)\n",
        "    return list_main"
      ]
    },
    {
      "cell_type": "code",
      "execution_count": 197,
      "id": "f1020d72",
      "metadata": {
        "id": "f1020d72"
      },
      "outputs": [],
      "source": [
        "df['similar_nouns'] = df['nouns'].apply(similar_words)"
      ]
    },
    {
      "cell_type": "code",
      "execution_count": 202,
      "id": "622d9b9f",
      "metadata": {
        "colab": {
          "base_uri": "https://localhost:8080/",
          "height": 319
        },
        "id": "622d9b9f",
        "outputId": "976534e0-aef5-4b69-ca01-9d88d0366ec2"
      },
      "outputs": [
        {
          "output_type": "execute_result",
          "data": {
            "text/plain": [
              "                                                text  \\\n",
              "0                                     Little Red Cap   \n",
              "1                            Jacob and Wilhelm Grimm   \n",
              "2    Once upon a time there was a sweet little girl.   \n",
              "3  Everyone who saw her liked her, but most of al...   \n",
              "4  Once she gave her a little cap made of red vel...   \n",
              "\n",
              "                               nouns    adjective pronoun       adverb  \\\n",
              "0                                Cap  Little, Red                        \n",
              "1              Jacob, Wilhelm, Grimm                                     \n",
              "2                  time, sweet, girl       little          Once, there   \n",
              "3  Everyone, saw, grandmother, child         next                  not   \n",
              "4                        cap, velvet  little, red     she         Once   \n",
              "\n",
              "  particle interjection        verb verb_past verb_present  \\\n",
              "0                                                            \n",
              "1                                                            \n",
              "2                                         was                \n",
              "3                        know, give       did                \n",
              "4                                        gave                \n",
              "\n",
              "                                       similar_nouns  \n",
              "0                        [[cap: caps, blue, salary]]  \n",
              "1  [[jacob: isaac, alfred, abraham], [wilhelm: fr...  \n",
              "2  [[time: when, this, before], [sweet: delicious...  \n",
              "3  [[everyone: everybody, else, sure], [saw: when...  \n",
              "4  [[cap: caps, blue, salary], [velvet: satin, pi...  "
            ],
            "text/html": [
              "\n",
              "  <div id=\"df-69c66482-01e5-40c1-91dd-ea3ef273c945\">\n",
              "    <div class=\"colab-df-container\">\n",
              "      <div>\n",
              "<style scoped>\n",
              "    .dataframe tbody tr th:only-of-type {\n",
              "        vertical-align: middle;\n",
              "    }\n",
              "\n",
              "    .dataframe tbody tr th {\n",
              "        vertical-align: top;\n",
              "    }\n",
              "\n",
              "    .dataframe thead th {\n",
              "        text-align: right;\n",
              "    }\n",
              "</style>\n",
              "<table border=\"1\" class=\"dataframe\">\n",
              "  <thead>\n",
              "    <tr style=\"text-align: right;\">\n",
              "      <th></th>\n",
              "      <th>text</th>\n",
              "      <th>nouns</th>\n",
              "      <th>adjective</th>\n",
              "      <th>pronoun</th>\n",
              "      <th>adverb</th>\n",
              "      <th>particle</th>\n",
              "      <th>interjection</th>\n",
              "      <th>verb</th>\n",
              "      <th>verb_past</th>\n",
              "      <th>verb_present</th>\n",
              "      <th>similar_nouns</th>\n",
              "    </tr>\n",
              "  </thead>\n",
              "  <tbody>\n",
              "    <tr>\n",
              "      <th>0</th>\n",
              "      <td>Little Red Cap</td>\n",
              "      <td>Cap</td>\n",
              "      <td>Little, Red</td>\n",
              "      <td></td>\n",
              "      <td></td>\n",
              "      <td></td>\n",
              "      <td></td>\n",
              "      <td></td>\n",
              "      <td></td>\n",
              "      <td></td>\n",
              "      <td>[[cap: caps, blue, salary]]</td>\n",
              "    </tr>\n",
              "    <tr>\n",
              "      <th>1</th>\n",
              "      <td>Jacob and Wilhelm Grimm</td>\n",
              "      <td>Jacob, Wilhelm, Grimm</td>\n",
              "      <td></td>\n",
              "      <td></td>\n",
              "      <td></td>\n",
              "      <td></td>\n",
              "      <td></td>\n",
              "      <td></td>\n",
              "      <td></td>\n",
              "      <td></td>\n",
              "      <td>[[jacob: isaac, alfred, abraham], [wilhelm: fr...</td>\n",
              "    </tr>\n",
              "    <tr>\n",
              "      <th>2</th>\n",
              "      <td>Once upon a time there was a sweet little girl.</td>\n",
              "      <td>time, sweet, girl</td>\n",
              "      <td>little</td>\n",
              "      <td></td>\n",
              "      <td>Once, there</td>\n",
              "      <td></td>\n",
              "      <td></td>\n",
              "      <td></td>\n",
              "      <td>was</td>\n",
              "      <td></td>\n",
              "      <td>[[time: when, this, before], [sweet: delicious...</td>\n",
              "    </tr>\n",
              "    <tr>\n",
              "      <th>3</th>\n",
              "      <td>Everyone who saw her liked her, but most of al...</td>\n",
              "      <td>Everyone, saw, grandmother, child</td>\n",
              "      <td>next</td>\n",
              "      <td></td>\n",
              "      <td>not</td>\n",
              "      <td></td>\n",
              "      <td></td>\n",
              "      <td>know, give</td>\n",
              "      <td>did</td>\n",
              "      <td></td>\n",
              "      <td>[[everyone: everybody, else, sure], [saw: when...</td>\n",
              "    </tr>\n",
              "    <tr>\n",
              "      <th>4</th>\n",
              "      <td>Once she gave her a little cap made of red vel...</td>\n",
              "      <td>cap, velvet</td>\n",
              "      <td>little, red</td>\n",
              "      <td>she</td>\n",
              "      <td>Once</td>\n",
              "      <td></td>\n",
              "      <td></td>\n",
              "      <td></td>\n",
              "      <td>gave</td>\n",
              "      <td></td>\n",
              "      <td>[[cap: caps, blue, salary], [velvet: satin, pi...</td>\n",
              "    </tr>\n",
              "  </tbody>\n",
              "</table>\n",
              "</div>\n",
              "      <button class=\"colab-df-convert\" onclick=\"convertToInteractive('df-69c66482-01e5-40c1-91dd-ea3ef273c945')\"\n",
              "              title=\"Convert this dataframe to an interactive table.\"\n",
              "              style=\"display:none;\">\n",
              "        \n",
              "  <svg xmlns=\"http://www.w3.org/2000/svg\" height=\"24px\"viewBox=\"0 0 24 24\"\n",
              "       width=\"24px\">\n",
              "    <path d=\"M0 0h24v24H0V0z\" fill=\"none\"/>\n",
              "    <path d=\"M18.56 5.44l.94 2.06.94-2.06 2.06-.94-2.06-.94-.94-2.06-.94 2.06-2.06.94zm-11 1L8.5 8.5l.94-2.06 2.06-.94-2.06-.94L8.5 2.5l-.94 2.06-2.06.94zm10 10l.94 2.06.94-2.06 2.06-.94-2.06-.94-.94-2.06-.94 2.06-2.06.94z\"/><path d=\"M17.41 7.96l-1.37-1.37c-.4-.4-.92-.59-1.43-.59-.52 0-1.04.2-1.43.59L10.3 9.45l-7.72 7.72c-.78.78-.78 2.05 0 2.83L4 21.41c.39.39.9.59 1.41.59.51 0 1.02-.2 1.41-.59l7.78-7.78 2.81-2.81c.8-.78.8-2.07 0-2.86zM5.41 20L4 18.59l7.72-7.72 1.47 1.35L5.41 20z\"/>\n",
              "  </svg>\n",
              "      </button>\n",
              "      \n",
              "  <style>\n",
              "    .colab-df-container {\n",
              "      display:flex;\n",
              "      flex-wrap:wrap;\n",
              "      gap: 12px;\n",
              "    }\n",
              "\n",
              "    .colab-df-convert {\n",
              "      background-color: #E8F0FE;\n",
              "      border: none;\n",
              "      border-radius: 50%;\n",
              "      cursor: pointer;\n",
              "      display: none;\n",
              "      fill: #1967D2;\n",
              "      height: 32px;\n",
              "      padding: 0 0 0 0;\n",
              "      width: 32px;\n",
              "    }\n",
              "\n",
              "    .colab-df-convert:hover {\n",
              "      background-color: #E2EBFA;\n",
              "      box-shadow: 0px 1px 2px rgba(60, 64, 67, 0.3), 0px 1px 3px 1px rgba(60, 64, 67, 0.15);\n",
              "      fill: #174EA6;\n",
              "    }\n",
              "\n",
              "    [theme=dark] .colab-df-convert {\n",
              "      background-color: #3B4455;\n",
              "      fill: #D2E3FC;\n",
              "    }\n",
              "\n",
              "    [theme=dark] .colab-df-convert:hover {\n",
              "      background-color: #434B5C;\n",
              "      box-shadow: 0px 1px 3px 1px rgba(0, 0, 0, 0.15);\n",
              "      filter: drop-shadow(0px 1px 2px rgba(0, 0, 0, 0.3));\n",
              "      fill: #FFFFFF;\n",
              "    }\n",
              "  </style>\n",
              "\n",
              "      <script>\n",
              "        const buttonEl =\n",
              "          document.querySelector('#df-69c66482-01e5-40c1-91dd-ea3ef273c945 button.colab-df-convert');\n",
              "        buttonEl.style.display =\n",
              "          google.colab.kernel.accessAllowed ? 'block' : 'none';\n",
              "\n",
              "        async function convertToInteractive(key) {\n",
              "          const element = document.querySelector('#df-69c66482-01e5-40c1-91dd-ea3ef273c945');\n",
              "          const dataTable =\n",
              "            await google.colab.kernel.invokeFunction('convertToInteractive',\n",
              "                                                     [key], {});\n",
              "          if (!dataTable) return;\n",
              "\n",
              "          const docLinkHtml = 'Like what you see? Visit the ' +\n",
              "            '<a target=\"_blank\" href=https://colab.research.google.com/notebooks/data_table.ipynb>data table notebook</a>'\n",
              "            + ' to learn more about interactive tables.';\n",
              "          element.innerHTML = '';\n",
              "          dataTable['output_type'] = 'display_data';\n",
              "          await google.colab.output.renderOutput(dataTable, element);\n",
              "          const docLink = document.createElement('div');\n",
              "          docLink.innerHTML = docLinkHtml;\n",
              "          element.appendChild(docLink);\n",
              "        }\n",
              "      </script>\n",
              "    </div>\n",
              "  </div>\n",
              "  "
            ]
          },
          "metadata": {},
          "execution_count": 202
        }
      ],
      "source": [
        "df.head()"
      ]
    }
  ],
  "metadata": {
    "kernelspec": {
      "display_name": "Python 3 (ipykernel)",
      "language": "python",
      "name": "python3"
    },
    "language_info": {
      "codemirror_mode": {
        "name": "ipython",
        "version": 3
      },
      "file_extension": ".py",
      "mimetype": "text/x-python",
      "name": "python",
      "nbconvert_exporter": "python",
      "pygments_lexer": "ipython3",
      "version": "3.9.12"
    },
    "colab": {
      "provenance": []
    }
  },
  "nbformat": 4,
  "nbformat_minor": 5
}